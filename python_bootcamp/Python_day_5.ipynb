{
  "nbformat": 4,
  "nbformat_minor": 0,
  "metadata": {
    "colab": {
      "provenance": []
    },
    "kernelspec": {
      "name": "python3",
      "display_name": "Python 3"
    },
    "language_info": {
      "name": "python"
    }
  },
  "cells": [
    {
      "cell_type": "markdown",
      "source": [
        "# OOP in Python\n",
        "Object Oriented Porgramming is a programming paradigm/pattern that uses \"objects\" and \"classes\" to model data and entities. It organizes code around the concept of objects, which are instances of classes encapsulating data and behavior.\n",
        "\n",
        "In OOP, the emphasis is on modeling real-world entities as objects, allowing for a more intuitive and modular approach to problem-solving. By encapsulating data within objects and defining methods to manipulate that data, OOP promotes code reusability, scalability, and maintainability.\n"
      ],
      "metadata": {
        "id": "EP5jt-TMMlQr"
      }
    },
    {
      "cell_type": "markdown",
      "source": [
        "## **Class:**\n",
        "Classes are blueprint or set of instructions. It defines what an objects like a \"father\" or \"son\" will look like and what it can do. Let's consider a software which stores and displays information of \"father\" of different students. We will be storing informations like  \"name\", \"age\" and \"job status\".\n",
        "\n",
        "```python\n",
        "\n",
        "class father():\n",
        "\n",
        "    name = \"Father_Name\"\n",
        "    age = \"Father_Age\"\n",
        "    job = \"Father_Job\"\n",
        "\n",
        "    def work(self):\n",
        "      print(f\"my father is {self.job}\")\n",
        "    \n",
        "    def introduce(self):\n",
        "      print(f\"my name is {self.name}, I am {self.age} years old and I work as {self.job} \")\n",
        "\n",
        "```"
      ],
      "metadata": {
        "id": "AnOquysFRTEo"
      }
    },
    {
      "cell_type": "markdown",
      "source": [
        "## **Objects:**\n",
        "Objects are the instances of classes, which are blueprints for creating objects. A class defines the structure and behaviours (attributes and methods) that the bojects created from the class will have.\n",
        "\n",
        "```python\n",
        "\n",
        "class father():\n",
        "\n",
        "    name = \"Father_Name\"\n",
        "    age = \"Father_Age\"\n",
        "    job = \"Father_Job\"\n",
        "\n",
        "    def work(self):\n",
        "      print(f\"my father is {self.job}\")\n",
        "\n",
        "    def introduce(self):\n",
        "      print(f\"my name is {self.name}, I am {self.age} years old and I work as {self.job} \")\n",
        "\n",
        "\n",
        "myFather = father() # creating \"myFather\" object form \"father\" class\n",
        "\n",
        "myFatehr.work() # calling work method from father class\n",
        "\n",
        "myFather.intorduce() # calling intorduce method from father class\n",
        "\n",
        "```"
      ],
      "metadata": {
        "id": "3AUS8vopRVdh"
      }
    },
    {
      "cell_type": "markdown",
      "source": [
        "## Task 1\n",
        "**Rewrite above code and set the value for attributes like name, age and job**"
      ],
      "metadata": {
        "id": "pFhhBeHMYPM6"
      }
    },
    {
      "cell_type": "code",
      "source": [
        "## your code here"
      ],
      "metadata": {
        "id": "6bKn9m8lYNCH"
      },
      "execution_count": null,
      "outputs": []
    },
    {
      "cell_type": "markdown",
      "source": [
        "## `__init__()` method\n",
        "A constructor is special method used to initialize a newly created object. Constructors play a crucial role in the creation and initialization of objects. They are fundamental to setting up new instances of classes correctly.\n",
        "\n",
        "```python\n",
        "\n",
        "class father():\n",
        "  \n",
        "  def __init__(self, new_name, new_age, new_job):\n",
        "    self.name = new_name\n",
        "    self.age = new_age\n",
        "    self.job = new_job\n",
        "  \n",
        "  def work(self):\n",
        "    print(f\"my father is {self.job}\")\n",
        "\n",
        "  def introduce(self):\n",
        "    print(f\"my name is {self.name}, I am {self.age} years old and I work as {self.job} \")\n",
        "\n",
        "\n",
        "myFather = father(\"John Doe\", 45, \"Admin\") # creating \"myFather\" object form \"father\" class\n",
        "\n",
        "myFatehr.work() # calling work method from father class\n",
        "\n",
        "myFather.intorduce() # calling intorduce method from father class\n",
        "\n",
        "\n",
        "```"
      ],
      "metadata": {
        "id": "sf9yTqVPZTVy"
      }
    },
    {
      "cell_type": "markdown",
      "source": [
        "## Task 2\n",
        "Create a \"father\" class as given in above example. Take three inputs form the user \"name, age and job\" pass it into the constructor and display information as shown above.\n",
        "\n",
        "\n"
      ],
      "metadata": {
        "id": "e2lsyHVSclVP"
      }
    },
    {
      "cell_type": "code",
      "source": [
        "## write your code here"
      ],
      "metadata": {
        "id": "kq5JI37pedx1"
      },
      "execution_count": null,
      "outputs": []
    },
    {
      "cell_type": "markdown",
      "source": [
        "## Python Methods\n",
        "In object-oriented programming (OOP), methods are functions defined within a class that operate on instances of that class. Methods can perform operations on the data attributes of the class, and they can also be used to implement the behavior of the objects.\n",
        "\n",
        "```python\n",
        "\n",
        "class father():\n",
        "\n",
        "  def __init__(self, new_name, new_age, new_job):\n",
        "    self.name = new_name\n",
        "    self.age = new_age\n",
        "    self.job = new_job\n",
        "\n",
        "  def work(self):\n",
        "    print(f\"my father is {self.job}\")\n",
        "\n",
        "  def introduce(self):\n",
        "    print(f\"my name is {self.name}, I am {self.age} years old and I work as {self.job} \")\n",
        "\n",
        "```\n",
        "in above given example `__init__`, `work`, `introduce` are called methods. They are built to perform specific task.\n"
      ],
      "metadata": {
        "id": "FJYKQHr0cVVz"
      }
    },
    {
      "cell_type": "markdown",
      "source": [
        "## Task 3\n",
        "Inside a class called area create different methods for claculating area of circle, triangle, square and rectangle. Pass the following values for each methods.\n",
        "\n",
        "1. circle: pi = 3.1415926535 and radius = 2.22\n",
        "2. triangle: base = 2.243 and height = 3.654\n",
        "3. square: length = 4.462\n",
        "4. rectangle: length = 3.325 and width = 2.341\n",
        "\n",
        "**Note:** Round the results to 2 decimal points"
      ],
      "metadata": {
        "id": "596m6DiigfNa"
      }
    },
    {
      "cell_type": "code",
      "source": [
        "# your code here"
      ],
      "metadata": {
        "id": "pgzNobuKjWUv"
      },
      "execution_count": null,
      "outputs": []
    },
    {
      "cell_type": "markdown",
      "source": [
        "## Python Inheritence\n",
        "Inheritance is the capability of one class to derive or inherit the properties from another class. The class that derives properties is called the derived class or child class and the class from which the properties are being derived is called the base class or parent class.\n",
        "\n",
        "### Types of Inheritence\n",
        "\n",
        "1. **Single Inheritance:** Single-level inheritance enables a derived class to inherit characteristics from a single-parent class.\n",
        "\n",
        "2. **Multilevel Inheritance:** Multi-level inheritance enables a derived class to inherit properties from an immediate parent class which in turn inherits properties from his parent class.\n",
        "\n",
        "3. **Hierarchical Inheritance:** Hierarchical-level inheritance enables more than one derived class to inherit properties from a parent class.\n",
        "\n",
        "4. **Multiple Inheritance:** Multiple-level inheritance enables one derived class to inherit properties from more than one base class.\n",
        "\n",
        "```python\n",
        "\n",
        "class Father():\n",
        "  \n",
        "  def __init__(self, new_name, new_age, new_job):\n",
        "    self.name = new_name\n",
        "    self.age = new_age\n",
        "    self.job = new_job\n",
        "  \n",
        "  def work(self):\n",
        "    print(f\"my father is {self.job}\")\n",
        "\n",
        "  def introduce(self):\n",
        "    print(f\"my name is {self.name}, I am {self.age} years old and I work as {self.job} \")\n",
        "\n",
        "\n",
        "### Son class inherit form Father ###\n",
        "class Son(father):\n",
        "    \n",
        "    def __init__(self, new_name, new_age, new_job, hobby):\n",
        "\n",
        "        super().__init__(new_name, new_age, new_job) # passing values to the parent class's constructor\n",
        "        self.hobby = hobby\n",
        "        \n",
        "    def introduce(self):\n",
        "        print(f\"my name is {self.name}, I am {self.age} years old and I work as {self.job} and I like to {self.hobby}\")\n",
        "\n",
        "```"
      ],
      "metadata": {
        "id": "otxRbD2ejiCD"
      }
    },
    {
      "cell_type": "markdown",
      "source": [
        "## Task 4\n",
        "Create a object for Son class and pass \"name, age, job, hobby\" and run the code"
      ],
      "metadata": {
        "id": "KzJbh1rj1usf"
      }
    },
    {
      "cell_type": "code",
      "source": [
        "## your code here"
      ],
      "metadata": {
        "id": "LLoeaqIp2JI7"
      },
      "execution_count": null,
      "outputs": []
    },
    {
      "cell_type": "markdown",
      "source": [
        "# Thank You\n",
        "Throughout the bootcamp, we have witnessed your passion for coding shine through as you tackled challenges, asked insightful questions, and collaborated with your peers.Your active engagement has not only enriched your own understanding of Python but has also fostered a supportive and dynamic learning environment for everyone involved.\n",
        "\n",
        "As we conclude this chapter of our Python adventure, I encourage you to continue honing your skills, exploring new concepts, and pushing the boundaries of your creativity. Remember, learning is a lifelong journey, and the skills you've acquired here will serve as a solid foundation for your future endeavors in the world of programming.\n",
        "\n",
        "Wishing you continued success and endless opportunities in your coding journey!"
      ],
      "metadata": {
        "id": "_thISu2w2Rur"
      }
    }
  ]
}