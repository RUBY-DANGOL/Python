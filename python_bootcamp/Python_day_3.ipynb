{
  "cells": [
    {
      "cell_type": "markdown",
      "id": "f7ef8562-9181-496f-af0a-0bceafa0749a",
      "metadata": {
        "id": "f7ef8562-9181-496f-af0a-0bceafa0749a"
      },
      "source": [
        "# Day 3 Python Workshop"
      ]
    },
    {
      "cell_type": "markdown",
      "id": "9a6afb2d-ecda-40ef-b47c-756c90857fce",
      "metadata": {
        "id": "9a6afb2d-ecda-40ef-b47c-756c90857fce"
      },
      "source": [
        "## 1. Function\n",
        "\n",
        "A function in programming is a reusable block of code designed to perform a specific task.\n",
        "\n",
        "Functions help in organizing code, making it more modular, readable, and maintainable.\n",
        "\n",
        "They can take inputs, called parameters, and can return outputs as a result."
      ]
    },
    {
      "cell_type": "markdown",
      "id": "a60bcc05-535e-48bf-9bd2-1cbb9b664d2b",
      "metadata": {
        "id": "a60bcc05-535e-48bf-9bd2-1cbb9b664d2b"
      },
      "source": [
        "In Python, a function is defined using the **`def`** keyword, followed by the function name, parentheses containing any parameters, and a colon.\n",
        "\n",
        "The function body is indented and contains the code to be executed.\n",
        "\n",
        "syntax:\n",
        "```python\n",
        "def function_name(parameters):  \n",
        "    # statements\n",
        "\n",
        "# In python in general the naming convention for variable and function is snake-case.\n",
        "```\n",
        "\n",
        "Here's an example:\n",
        "\n",
        "```python\n",
        "def greet(name):\n",
        "    return f\"Hello, {name}!\"\n",
        "```\n",
        "\n",
        "For using function execute following code:\n",
        "\n",
        "```python\n",
        "greet('KUcians')\n",
        "```\n",
        "\n",
        "Extected output:\n",
        "```python\n",
        "Hello, KUcians!\n",
        "```"
      ]
    },
    {
      "cell_type": "code",
      "execution_count": null,
      "id": "a6fd72b4-ae80-4baf-b4ef-f208ee5c976b",
      "metadata": {
        "id": "a6fd72b4-ae80-4baf-b4ef-f208ee5c976b"
      },
      "outputs": [],
      "source": [
        "def is_even(number):\n",
        "    if number % 2 == 0:\n",
        "        return True\n",
        "    else:\n",
        "        return False"
      ]
    },
    {
      "cell_type": "code",
      "execution_count": null,
      "id": "301d56ea-ad47-4958-ae49-456a2fd8db38",
      "metadata": {
        "id": "301d56ea-ad47-4958-ae49-456a2fd8db38",
        "outputId": "bc851599-246b-4844-caf1-5e0e4bcb527f"
      },
      "outputs": [
        {
          "data": {
            "text/plain": [
              "True"
            ]
          },
          "execution_count": 2,
          "metadata": {},
          "output_type": "execute_result"
        }
      ],
      "source": [
        "is_even(2)"
      ]
    },
    {
      "cell_type": "code",
      "execution_count": null,
      "id": "508c9419-8a4e-49ef-83eb-f6628cc43359",
      "metadata": {
        "id": "508c9419-8a4e-49ef-83eb-f6628cc43359",
        "outputId": "eb0a5aab-e5c6-4e6b-acdb-d693c521d91d"
      },
      "outputs": [
        {
          "data": {
            "text/plain": [
              "False"
            ]
          },
          "execution_count": 3,
          "metadata": {},
          "output_type": "execute_result"
        }
      ],
      "source": [
        "is_even(1)"
      ]
    },
    {
      "cell_type": "code",
      "execution_count": null,
      "id": "51c107fb-8913-4623-be52-af7cf2bd0682",
      "metadata": {
        "id": "51c107fb-8913-4623-be52-af7cf2bd0682"
      },
      "outputs": [],
      "source": [
        "def sum_two_numbers(num1, num2):\n",
        "    sum = num1 + num2\n",
        "    return sum\n",
        "\n",
        "## OR ##\n",
        "\n",
        "def add_two_numbers(num1, num2):\n",
        "    return num1 + num2\n",
        "\n",
        "\n",
        "### Note: intermediate variable `sum` in first example."
      ]
    },
    {
      "cell_type": "code",
      "execution_count": null,
      "id": "74436cfb-63e3-4d59-a942-ba81e7ac4851",
      "metadata": {
        "id": "74436cfb-63e3-4d59-a942-ba81e7ac4851",
        "outputId": "718845bd-0246-49c8-c6af-a3806185d567"
      },
      "outputs": [
        {
          "data": {
            "text/plain": [
              "(4, 9)"
            ]
          },
          "execution_count": 6,
          "metadata": {},
          "output_type": "execute_result"
        }
      ],
      "source": [
        "sum_two_numbers(1, 3), add_two_numbers(3, 6)"
      ]
    },
    {
      "cell_type": "markdown",
      "id": "6accce3e-ce4c-4c0a-9dc0-51f6a57aa9aa",
      "metadata": {
        "id": "6accce3e-ce4c-4c0a-9dc0-51f6a57aa9aa"
      },
      "source": [
        "### 1.1 Function Parameters and Arguments"
      ]
    },
    {
      "cell_type": "markdown",
      "id": "91cb4163-2486-46d0-a8b5-8d7c4dac4eb1",
      "metadata": {
        "id": "91cb4163-2486-46d0-a8b5-8d7c4dac4eb1"
      },
      "source": [
        "**Parameters**: are variables listed inside the parenthesis in the function definition.\n",
        "\n",
        "**Arguments**: are the actual values passed to the function when it is called.\n",
        "\n",
        "**Example:**\n",
        "```python\n",
        "# Function definition with parameters\n",
        "def add(a, b):\n",
        "    return a + b\n",
        "\n",
        "# Function call with arguments\n",
        "result = add(3, 6)\n",
        "\n",
        "print(result)  # Output: 9\n",
        "```"
      ]
    },
    {
      "cell_type": "markdown",
      "id": "efb46d2f-e736-4589-94b4-8a02e9d3393e",
      "metadata": {
        "id": "efb46d2f-e736-4589-94b4-8a02e9d3393e"
      },
      "source": [
        "### 1.2 Different types of Functions"
      ]
    },
    {
      "cell_type": "markdown",
      "id": "26957442-2282-48ca-bbcd-854740482729",
      "metadata": {
        "id": "26957442-2282-48ca-bbcd-854740482729"
      },
      "source": [
        "#### 1.2.1 Positional Arguments"
      ]
    },
    {
      "cell_type": "markdown",
      "id": "d2511227-5a0a-4bad-ba41-2ba5ed41ba45",
      "metadata": {
        "id": "d2511227-5a0a-4bad-ba41-2ba5ed41ba45"
      },
      "source": [
        "They are passed to the function based on their position or order in the function call.\n",
        "\n",
        "**Example:**\n",
        "```python\n",
        "# Function definition with two positional arguments\n",
        "def greet(name, message):\n",
        "    return f\"{message}, {name}!\"\n",
        "\n",
        "# Function call with positional arguments\n",
        "greeting = greet(\"KUcians\", \"Happy Coding\")\n",
        "\n",
        "print(greeting)   # Output: Happy Coding, KUcians!\n",
        "```"
      ]
    },
    {
      "cell_type": "markdown",
      "id": "e69ae8b8-474a-42f8-8adc-0e99766d6f7d",
      "metadata": {
        "id": "e69ae8b8-474a-42f8-8adc-0e99766d6f7d"
      },
      "source": [
        "#### 1.2.2 Keyword Arguments"
      ]
    },
    {
      "cell_type": "markdown",
      "id": "8fe08584-2aca-44b2-8197-4cfc9c6d0111",
      "metadata": {
        "id": "8fe08584-2aca-44b2-8197-4cfc9c6d0111"
      },
      "source": [
        "**Keyword arguments** in Python allow you to specify arguments by their parameter names, regardless of their position in the function call.\n",
        "\n",
        "This provides clarity and flexibility, especially for functions with multiple parameters.\n",
        "\n",
        "**Example:**\n",
        "```python\n",
        "# Function definition with two positional arguments\n",
        "def greet(name, message):\n",
        "    return f\"{message}, {name}!\"\n",
        "\n",
        "# Function call with positional arguments\n",
        "greeting1 = greet(name=\"KUcians\", message=\"Happy Coding\")\n",
        "greeting2 = greet(message=\"Happy Coding\", name=\"KUcians\")  # NOTICE!!! the order of the arguments.\n",
        "\n",
        "print(greeting1)   # Output: Happy Coding, KUcians!\n",
        "print(greeting2)   # Output: Happy Coding, KUcians!\n",
        "```ns!\""
      ]
    },
    {
      "cell_type": "markdown",
      "id": "5853b50e-6d03-4c92-a8e7-1a8b02eb3f6a",
      "metadata": {
        "id": "5853b50e-6d03-4c92-a8e7-1a8b02eb3f6a"
      },
      "source": [
        "#### 1.2.3 Default Arguments"
      ]
    },
    {
      "cell_type": "markdown",
      "id": "9685da5e-665f-4a76-9ce6-f5f94b39ab14",
      "metadata": {
        "id": "9685da5e-665f-4a76-9ce6-f5f94b39ab14"
      },
      "source": [
        "**Default arguments** in Python allow you to specify default values for parameters. If an argument is not provided when the function is called, the default value is used instead.\n",
        "\n",
        "**Example:**\n",
        "```python\n",
        "# Function definition with two positional arguments and one default one.\n",
        "def greet(name=\"KUcians\", message):\n",
        "    return f\"{message}, {name}!\"\n",
        "\n",
        "# Function call with positional arguments\n",
        "greeting = greet(message=\"Happy Coding\")                 # Option 1\n",
        "greeting1 = greet(message=\"Happy Coding\", name=\"Ashwin\") # Option 2\n",
        "\n",
        "print(greeting)   # Output: Happy Coding, KUcians!\n",
        "print(greeting1)  # Output: Happy Coding, Ashwin!\n",
        "```"
      ]
    },
    {
      "cell_type": "markdown",
      "id": "6898e5e4-ad1e-4169-8507-a1244b5e2f70",
      "metadata": {
        "id": "6898e5e4-ad1e-4169-8507-a1244b5e2f70"
      },
      "source": [
        "# <font color='red'>Lab 1</color>\n",
        "**Re-write and run the example codes in <font color='red'>sections (1.2.1, 1.2.2, 1.2.3)</font> and play with it.**"
      ]
    },
    {
      "cell_type": "code",
      "execution_count": 19,
      "id": "_zl97VwPzyJr",
      "metadata": {
        "colab": {
          "base_uri": "https://localhost:8080/"
        },
        "id": "_zl97VwPzyJr",
        "outputId": "14b4ccfb-9078-4a64-fe70-5d47a19dc31d"
      },
      "outputs": [
        {
          "name": "stdout",
          "output_type": "stream",
          "text": [
            "hello, luniva!\n",
            "hello, ruby!\n"
          ]
        }
      ],
      "source": [
        "def me(message, name=\"ruby\"):\n",
        "    return f\"{message}, {name}!\"\n",
        "\n",
        "greeting = me(message=\"hello\", name=\"luniva\")\n",
        "greeting1 = me(message=\"hello\")\n",
        "\n",
        "print(greeting)\n",
        "print(greeting1)"
      ]
    },
    {
      "cell_type": "code",
      "execution_count": 6,
      "id": "LrG6aTt6vS75",
      "metadata": {
        "colab": {
          "base_uri": "https://localhost:8080/"
        },
        "id": "LrG6aTt6vS75",
        "outputId": "1da5b697-3626-4463-fc47-660b196ee8a8"
      },
      "outputs": [
        {
          "name": "stdout",
          "output_type": "stream",
          "text": [
            "hello, ruby!\n"
          ]
        }
      ],
      "source": [
        "def greet(name, message):\n",
        "    return f\"{message}, {name}!\"\n",
        "greeting = greet(\"ruby\", \"hello\")\n",
        "print(greeting)\n",
        "\n"
      ]
    },
    {
      "cell_type": "code",
      "execution_count": 10,
      "id": "YvWUqhXMvt5T",
      "metadata": {
        "colab": {
          "base_uri": "https://localhost:8080/"
        },
        "id": "YvWUqhXMvt5T",
        "outputId": "78b3f5ea-585f-476e-b801-64e74bd4b5a1"
      },
      "outputs": [
        {
          "name": "stdout",
          "output_type": "stream",
          "text": [
            "fhi\n",
            "gbye\n",
            "hibye\n"
          ]
        }
      ],
      "source": [
        "def a(b, c):\n",
        "    return b+c\n",
        "\n",
        "f= input(\"f\")\n",
        "g= input(\"g\")\n",
        "c=a(f,g)\n",
        "print(c)\n",
        "\n"
      ]
    },
    {
      "cell_type": "markdown",
      "id": "e1b9b198-3dd1-4817-9444-b153f80addd8",
      "metadata": {
        "id": "e1b9b198-3dd1-4817-9444-b153f80addd8"
      },
      "source": [
        "### 1.3 Variable Scope: Local vs global variables"
      ]
    },
    {
      "cell_type": "markdown",
      "id": "ccf3b7ed-7f4a-44ef-a83f-f6331eb41180",
      "metadata": {
        "id": "ccf3b7ed-7f4a-44ef-a83f-f6331eb41180"
      },
      "source": [
        "In programming, variable scope refers to where in the code a variable is accessible or visible.\n",
        "\n",
        "There are two main tytpes of variable scope: local and global.\n",
        "\n",
        "**1.3.1 Local Variables:**\n",
        "* Defined within a specifiec block of code, such as a function or a loop.\n",
        "* Accessible only within the block where they are declared.\n",
        "\n",
        "**Example:**\n",
        "```python\n",
        "def my_function():\n",
        "    x = 10\n",
        "    print(x)   # x is accessible here\n",
        "\n",
        "my_function()  # Output: 10\n",
        "\n",
        "# print(x)  # This would raise an error because x is not accessible here (i.e. outside the function block).\n",
        "```"
      ]
    },
    {
      "cell_type": "markdown",
      "id": "7fca72ae-c39c-4e6b-aded-6c4ec492ee52",
      "metadata": {
        "id": "7fca72ae-c39c-4e6b-aded-6c4ec492ee52"
      },
      "source": [
        "**1.3.2 Global Variables:**\n",
        "* Defined outside of any specific block of code.\n",
        "* Accessible throughout the entire program.\n",
        "* Can be modified from anywhere in the program.\n",
        "\n",
        "**Example:**\n",
        "```python\n",
        "x = 10   # global variable\n",
        "\n",
        "def my_function():\n",
        "    print(x)   # x is accessible here\n",
        "\n",
        "my_function()\n",
        "\n",
        "print(x)  # x is also accessible here\n",
        "\n",
        "def another_function():\n",
        "    global x\n",
        "    x = 20  # modifying the global variable x\n",
        "\n",
        "another_function()   \n",
        "\n",
        "print(x)   # prints 20 as x has been modified globally in function `another_function()`\n",
        "\n",
        "```\n",
        "\n",
        "**`Note:` Understanding variable scope is crucial for writing clean, organized, and bug-free code.**"
      ]
    },
    {
      "cell_type": "markdown",
      "id": "657052d9-2eba-4d63-a2fc-cf58c5c59d6c",
      "metadata": {
        "id": "657052d9-2eba-4d63-a2fc-cf58c5c59d6c"
      },
      "source": [
        "# <font color='red'>Lab 2</font>\n",
        "\n",
        "**Re-write and run the code examples in <font color='red'>section (1.3.1, 1.3.2)</font>**"
      ]
    },
    {
      "cell_type": "code",
      "execution_count": 21,
      "id": "1RkY6n2u3EKz",
      "metadata": {
        "colab": {
          "base_uri": "https://localhost:8080/"
        },
        "id": "1RkY6n2u3EKz",
        "outputId": "d761efd1-6d26-4f8e-b3a4-d04056171b0c"
      },
      "outputs": [
        {
          "name": "stdout",
          "output_type": "stream",
          "text": [
            "20\n"
          ]
        }
      ],
      "source": [
        "x= 10\n",
        "def me():\n",
        "  print(x)\n",
        "def me2():\n",
        "  global x\n",
        "  x=20\n",
        "me2()\n",
        "print(x)"
      ]
    },
    {
      "cell_type": "code",
      "execution_count": 20,
      "id": "pc61L_ST1rkQ",
      "metadata": {
        "colab": {
          "base_uri": "https://localhost:8080/"
        },
        "id": "pc61L_ST1rkQ",
        "outputId": "a879e156-d071-4ed1-bd3a-7a5c7ad420c1"
      },
      "outputs": [
        {
          "name": "stdout",
          "output_type": "stream",
          "text": [
            "10\n"
          ]
        }
      ],
      "source": [
        "def c():\n",
        "  x=10\n",
        "  return(x)\n",
        "print(c())\n",
        "\n"
      ]
    },
    {
      "cell_type": "markdown",
      "id": "6aa2b47e-1ea7-496b-bed5-993c1de87d1d",
      "metadata": {
        "id": "6aa2b47e-1ea7-496b-bed5-993c1de87d1d"
      },
      "source": [
        "# <font color='red'>Lab 3</font>\n",
        "\n",
        "write a function that takes an integer as argument.\n",
        "\n",
        "return \"KU\" if it is divisible by 3, \"AIC\" when it is divisible by 5 and \"KUAIC\" when it is divisible by 3 and 5 both.\n",
        "\n",
        "**Hint:**\n",
        "```python\n",
        "\n",
        "def my_func(num):\n",
        "    # code here.\n",
        "\n",
        "# Expected output should be as follows.\n",
        "    \n",
        "my_func(3)  # Output: 'KU'\n",
        "my_func(5)  # Output: 'AIC'\n",
        "my_func(15) # Output: 'KUAIC'\n",
        "my_func(21) # Output: 'KU'\n",
        "my_func(35) # Output: 'AIC'\n",
        "my_func(30) # Output: 'KUAIC'\n",
        "```"
      ]
    },
    {
      "cell_type": "code",
      "execution_count": 23,
      "id": "jkYb57Y-4Bh0",
      "metadata": {
        "colab": {
          "base_uri": "https://localhost:8080/"
        },
        "id": "jkYb57Y-4Bh0",
        "outputId": "f2e442c7-bff7-44bb-fc9f-c31262408c89"
      },
      "outputs": [
        {
          "name": "stdout",
          "output_type": "stream",
          "text": [
            "enter a number3\n",
            "KU\n"
          ]
        }
      ],
      "source": [
        "def hi():\n",
        "  x= int (input(\"enter a number\"))\n",
        "  if x%3==0 and x%5==0:\n",
        "    print(\"KUAIC\")\n",
        "  elif x%3==0:\n",
        "    print(\"KU\")\n",
        "  elif x%5==0:\n",
        "    print(\"AIC\")\n",
        "  else:\n",
        "    print(\"invalid\")\n",
        "hi()\n"
      ]
    },
    {
      "cell_type": "markdown",
      "id": "f8628c35-e83f-4dae-bd4c-2a94c401e87d",
      "metadata": {
        "id": "f8628c35-e83f-4dae-bd4c-2a94c401e87d"
      },
      "source": [
        "## Function annotations (Type Hints)"
      ]
    },
    {
      "cell_type": "markdown",
      "id": "e6eced44-aa10-4cec-ab03-bd518337486c",
      "metadata": {
        "id": "e6eced44-aa10-4cec-ab03-bd518337486c"
      },
      "source": [
        "* It provides a way to indicate the expected data types of function arguments and return values.\n",
        "* These annotations help improve code readability and can assist in static type checking, but do not enforce type checking at runtime.\n",
        "\n",
        "*  **Definition** Type hints use the syntax of placing a colon `:` followed by the type after each parameter in the function definition.\n",
        "*  The return type is indicated after an arrow `->` following the parameter list.\n",
        "\n",
        "**Example:**\n",
        "Here's a simple example of a function with type hints:\n",
        "```python\n",
        "def add(a: int, b: int) -> int:\n",
        "    return a + b\n",
        "```"
      ]
    },
    {
      "cell_type": "markdown",
      "id": "392f1383-8ef9-4fbe-a3f4-56d6c6469cc2",
      "metadata": {
        "id": "392f1383-8ef9-4fbe-a3f4-56d6c6469cc2"
      },
      "source": [
        "In this example:\n",
        "* `a: int` indicates that \\`a\\` is expected to be an integer.\n",
        "* `b: int` indicates that \\`b\\` is expected to be an integer.\n",
        "* `-> int` indicates that the function is expected to return an integer.\n",
        "\n",
        "**summary:** The function **\\`add\\`** takes two arguments, **'a'** and **'b'**, both of which are integers, and it returns an integer, which is the result of adding **'a'** and **'b'**."
      ]
    },
    {
      "cell_type": "markdown",
      "id": "8b810ecb-87c9-4ce9-aa31-c86ffc73cc8b",
      "metadata": {
        "id": "8b810ecb-87c9-4ce9-aa31-c86ffc73cc8b"
      },
      "source": [
        "# <font color='red'>Lab 4</font>"
      ]
    },
    {
      "cell_type": "markdown",
      "id": "f03604f9-767c-4437-96eb-02a393419a95",
      "metadata": {
        "id": "f03604f9-767c-4437-96eb-02a393419a95"
      },
      "source": [
        "1. Write a function that takes list of integers as parameters, square each elements and return it as list of integers.\n",
        "2. In above case, sum the elements of list and return it. (use both built-in methods and explicitly for loop also.)\n",
        "\n",
        "**Hint:**\n",
        "```python\n",
        "from typing import List\n",
        "\n",
        "### first case\n",
        "def square_list(list: List[int]) -> List[int]:\n",
        "    # your code here.\n",
        "\n",
        "### Expected\n",
        "# nums = [1, 2, 3]\n",
        "# square_list(nums)  # Output: [1, 4, 9]\n",
        "\n",
        "### second case\n",
        "def sum_list(list: List[int]) -> int:\n",
        "    # your code here.\n",
        "\n",
        "### Expected\n",
        "# nums1 = [1, 2, 3]\n",
        "# sum_list(nums1)  # Output: 6\n",
        "```"
      ]
    },
    {
      "cell_type": "code",
      "execution_count": 28,
      "id": "LcGLwexw6d7s",
      "metadata": {
        "colab": {
          "base_uri": "https://localhost:8080/"
        },
        "id": "LcGLwexw6d7s",
        "outputId": "01a988be-aa80-4180-d13c-5d0c4471544d"
      },
      "outputs": [
        {
          "data": {
            "text/plain": [
              "6"
            ]
          },
          "execution_count": 28,
          "metadata": {},
          "output_type": "execute_result"
        }
      ],
      "source": [
        "from typing import List\n",
        "def c(list: List[int])-> List[int]:\n",
        "  total = sum(list)\n",
        "  return(total)\n",
        "c([1,2,3])"
      ]
    },
    {
      "cell_type": "markdown",
      "id": "60f52d96-af27-407a-b09d-46305948f073",
      "metadata": {
        "id": "60f52d96-af27-407a-b09d-46305948f073"
      },
      "source": [
        "## *args and **kwargs"
      ]
    },
    {
      "cell_type": "markdown",
      "id": "4e953f45-f535-4620-9e9c-08a6b875deb0",
      "metadata": {
        "id": "4e953f45-f535-4620-9e9c-08a6b875deb0"
      },
      "source": [
        "**\\*args**: is used to pass a variable number of non-keyword arguments to a function, allows you to handle more arguments than the number of formal parameters you previously defined.\n",
        "\n",
        "**Example:**\n",
        "```python\n",
        "def my_func(*args):\n",
        "    for arg in args:\n",
        "        print(arg)\n",
        "\n",
        "my_func(1,2,3)\n",
        "\n",
        "# Output:\n",
        "# 1\n",
        "# 2\n",
        "# 3\n",
        "```\n",
        "\n",
        "**\\`my_func\\`** can accept any number of positional arguments. When you call **\\`my_func(1,2,3)\\`**, the valuese are passes as a tuple to **\\`args\\`**."
      ]
    },
    {
      "cell_type": "markdown",
      "id": "13811cc6-2e2d-4eee-a1ce-2bb051e3b6be",
      "metadata": {
        "id": "13811cc6-2e2d-4eee-a1ce-2bb051e3b6be"
      },
      "source": [
        "**\\*\\*kwargs:** allows you to pass a variable number of keyword arguments (arguments with a key-value pair) to a function. It collects these arguments as a dictionary.\n",
        "nd\")"
      ]
    },
    {
      "cell_type": "markdown",
      "id": "5d00207f-1e00-4077-a426-a5b6b944072f",
      "metadata": {
        "id": "5d00207f-1e00-4077-a426-a5b6b944072f"
      },
      "source": [
        "## <font color='red'>Lab 6 </font>\n",
        "Write a program that takes variable/any number of integer arguments and return their sums (as above example)"
      ]
    },
    {
      "cell_type": "code",
      "execution_count": 33,
      "id": "FfzIhBZe93hX",
      "metadata": {
        "colab": {
          "base_uri": "https://localhost:8080/"
        },
        "id": "FfzIhBZe93hX",
        "outputId": "8a572892-1cf6-4669-c042-47ca8d007cca"
      },
      "outputs": [
        {
          "name": "stdout",
          "output_type": "stream",
          "text": [
            "1\n",
            "2\n",
            "3\n"
          ]
        }
      ],
      "source": [
        "def c(*args):\n",
        "  for arg in args:\n",
        "    print(arg)\n",
        "c(1,2,3)\n"
      ]
    },
    {
      "cell_type": "code",
      "execution_count": 34,
      "id": "YzqUZpuLAsEY",
      "metadata": {
        "colab": {
          "base_uri": "https://localhost:8080/"
        },
        "id": "YzqUZpuLAsEY",
        "outputId": "e9f4b247-baa0-41d4-b026-79381ae7cab4"
      },
      "outputs": [
        {
          "name": "stdout",
          "output_type": "stream",
          "text": [
            "6\n"
          ]
        }
      ],
      "source": [
        "def c(a,b,c):\n",
        "  print(a+b+c)\n",
        "c(1,2,3)"
      ]
    },
    {
      "cell_type": "code",
      "execution_count": 42,
      "id": "WcB-9FDyAd41",
      "metadata": {
        "colab": {
          "base_uri": "https://localhost:8080/"
        },
        "id": "WcB-9FDyAd41",
        "outputId": "f56d745a-8048-49bd-c8db-bf5dd8b7a347"
      },
      "outputs": [
        {
          "data": {
            "text/plain": [
              "6"
            ]
          },
          "execution_count": 42,
          "metadata": {},
          "output_type": "execute_result"
        }
      ],
      "source": [
        "def c(*args):\n",
        "  sum = 0\n",
        "  for arg in args:\n",
        "    sum = sum + arg\n",
        "  return(sum)\n",
        "c(1,2,3)\n"
      ]
    },
    {
      "cell_type": "code",
      "execution_count": 30,
      "id": "jyeTbT3v9gq9",
      "metadata": {
        "colab": {
          "base_uri": "https://localhost:8080/"
        },
        "id": "jyeTbT3v9gq9",
        "outputId": "0f199776-6c3c-4dad-d079-c97246e8cdf2"
      },
      "outputs": [
        {
          "data": {
            "text/plain": [
              "8"
            ]
          },
          "execution_count": 30,
          "metadata": {},
          "output_type": "execute_result"
        }
      ],
      "source": [
        "def c(list: List[int])-> List[int]:\n",
        "  total = sum(list)\n",
        "  return(total)\n",
        "c([1,3,4])"
      ]
    },
    {
      "cell_type": "code",
      "execution_count": null,
      "id": "3ad710c6-ebd9-4bd0-9fad-5f5fabe780a8",
      "metadata": {
        "id": "3ad710c6-ebd9-4bd0-9fad-5f5fabe780a8",
        "outputId": "b350bd4c-e877-4498-ce67-8f8197a12501"
      },
      "outputs": [
        {
          "name": "stdout",
          "output_type": "stream",
          "text": [
            "name: Ajay\n",
            "age: 30\n",
            "city: Pokhara\n"
          ]
        }
      ],
      "source": [
        "def my_func(**kwargs):\n",
        "    for key, value in kwargs.items():\n",
        "        print(f\"{key}: {value}\")\n",
        "my_func(name=\"Ajay\", age=30, city=\"Pokhara\")"
      ]
    },
    {
      "cell_type": "code",
      "execution_count": null,
      "id": "0dbdfda9-bf7f-4eba-94ea-ca2203c63f26",
      "metadata": {
        "id": "0dbdfda9-bf7f-4eba-94ea-ca2203c63f26"
      },
      "outputs": [],
      "source": [
        "def greet(name, **kwargs):\n",
        "  # kwargs is now a dictionary\n",
        "  message = f\"Hello, {name}!\"\n",
        "  if \"title\" in kwargs:\n",
        "    message = f\"{kwargs['title']}. {message}\"\n",
        "  if \"language\" in kwargs:\n",
        "    message += f\" ({kwargs['language']})\"\n",
        "  print(message)a"
      ]
    },
    {
      "cell_type": "code",
      "execution_count": null,
      "id": "ebf256dc-79b0-420f-bf2a-f9f7eee34aa9",
      "metadata": {
        "id": "ebf256dc-79b0-420f-bf2a-f9f7eee34aa9",
        "outputId": "4ab5cc33-6d99-4ed8-fe37-a87cae751b3d"
      },
      "outputs": [
        {
          "name": "stdout",
          "output_type": "stream",
          "text": [
            "Ms.. Hello, Alice! (English)\n",
            "Hello, Bob!\n"
          ]
        }
      ],
      "source": [
        "greet(\"Alice\", title=\"Ms.\", language=\"English\")  # Output: Ms. Hello, Alice! (English)\n",
        "\n",
        "greet(\"Bob\")  # Output: Hello, Bob!"
      ]
    },
    {
      "cell_type": "markdown",
      "id": "8a25af60-ee6c-4333-8be8-f741bafd75c5",
      "metadata": {
        "id": "8a25af60-ee6c-4333-8be8-f741bafd75c5"
      },
      "source": [
        "## Function Decorator"
      ]
    },
    {
      "cell_type": "markdown",
      "id": "1cfe606c-52e3-4df8-9e32-bde26ef6e1ab",
      "metadata": {
        "id": "1cfe606c-52e3-4df8-9e32-bde26ef6e1ab"
      },
      "source": [
        "**Decorators** in python are designed to **add the extra functionality** to the **functions or methods** without directly modifying their source code.\n",
        "\n",
        "* Like logging each time it's called."
      ]
    },
    {
      "cell_type": "code",
      "execution_count": 50,
      "id": "765feac4-5d8c-44f2-861a-bca9b5b3f8ba",
      "metadata": {
        "colab": {
          "base_uri": "https://localhost:8080/"
        },
        "id": "765feac4-5d8c-44f2-861a-bca9b5b3f8ba",
        "outputId": "aec19259-6a25-410a-8543-e98412c31723"
      },
      "outputs": [
        {
          "name": "stdout",
          "output_type": "stream",
          "text": [
            "Hello, KUcians!\n"
          ]
        }
      ],
      "source": [
        "def log_function(func):\n",
        "    def wrapper():\n",
        "        print(f\"Calling function {func.__name__}\")\n",
        "        return func()\n",
        "    return wrapper\n",
        "\n",
        "\n",
        "def without_wrapper(func):\n",
        "      return func\n",
        "\n",
        "\n",
        "# Applying decorator\n",
        "def say_hello():\n",
        "    return \"Hello, KUcians!\"\n",
        "\n",
        "@log_function\n",
        "def say_bye():\n",
        "    return \"Bye, KUcians!\"\n",
        "\n",
        "print(without_wrapper(say_hello()))"
      ]
    },
    {
      "cell_type": "code",
      "execution_count": null,
      "id": "FezZXV9hDHA0",
      "metadata": {
        "id": "FezZXV9hDHA0"
      },
      "outputs": [],
      "source": []
    },
    {
      "cell_type": "markdown",
      "id": "a8bdd5b5-449e-406c-b511-7790219f19c3",
      "metadata": {
        "id": "a8bdd5b5-449e-406c-b511-7790219f19c3"
      },
      "source": [
        "```python\n",
        "# Above code is equivalent to\n",
        "say_hello = log_function(say_hello)\n",
        "```"
      ]
    },
    {
      "cell_type": "code",
      "execution_count": 60,
      "id": "5a06bad0-4c43-4187-8b8d-fd1bbe88cf12",
      "metadata": {
        "id": "5a06bad0-4c43-4187-8b8d-fd1bbe88cf12"
      },
      "outputs": [],
      "source": [
        "# Additional examples\n",
        "def square(func):\n",
        "    def wrapper(*args, **kwargs):\n",
        "        val = func(*args, **kwargs)\n",
        "        return val * val\n",
        "    return wrapper\n",
        "\n",
        "# def sum(func):\n",
        "#     def wrapper(*args, **kwargs):\n",
        "#         val = func(*args, **kwargs)\n",
        "#         return val + val\n",
        "#     return wrapper\n",
        "\n",
        "## you can do as well (single parameter)\n",
        "def sum(func):\n",
        "    def wrapper(args):\n",
        "        val = func(args)\n",
        "        return val + val\n",
        "    return wrapper\n",
        "\n",
        "\n",
        "# Function 1\n",
        "@square\n",
        "def square_number(num):\n",
        "    return num\n",
        "\n",
        "# Function 2\n",
        "@sum\n",
        "def sum_number(num):\n",
        "    return num\n"
      ]
    },
    {
      "cell_type": "code",
      "execution_count": 61,
      "id": "3b1cd138-126d-432d-a1f1-a043f49b7ee2",
      "metadata": {
        "colab": {
          "base_uri": "https://localhost:8080/"
        },
        "id": "3b1cd138-126d-432d-a1f1-a043f49b7ee2",
        "outputId": "a27b1010-88d2-4db1-952c-1b8da3da36eb"
      },
      "outputs": [
        {
          "name": "stdout",
          "output_type": "stream",
          "text": [
            "9\n",
            "10\n"
          ]
        }
      ],
      "source": [
        "print(square_number(3))\n",
        "print(sum_number(5))"
      ]
    },
    {
      "cell_type": "markdown",
      "id": "3232ff7c-4641-4fc3-9730-09ea2b7fb211",
      "metadata": {
        "id": "3232ff7c-4641-4fc3-9730-09ea2b7fb211"
      },
      "source": [
        "## <font color='red'>Lab 7</font>"
      ]
    },
    {
      "cell_type": "markdown",
      "id": "2c352eca-90a6-4875-9348-031dcca8f686",
      "metadata": {
        "id": "2c352eca-90a6-4875-9348-031dcca8f686"
      },
      "source": [
        "Create a decorator, so that we could increment the value by 1.\n",
        "\n",
        "**Hint:**\n",
        "```python\n",
        "def increment_by_one(func):\n",
        "    def wrapper(*args, **kwargs):\n",
        "        return None # Your code here.\n",
        "    return None     # Your code here.\n",
        "\n",
        "@increment_by_one\n",
        "def give_number(num):\n",
        "    return num\n",
        "\n",
        "print(give_number(3))  # Output: 4\n",
        "\n",
        "```"
      ]
    },
    {
      "cell_type": "code",
      "execution_count": 62,
      "id": "8f4da1fd-8754-40c8-a875-ecd324dc6a75",
      "metadata": {
        "colab": {
          "base_uri": "https://localhost:8080/"
        },
        "id": "8f4da1fd-8754-40c8-a875-ecd324dc6a75",
        "outputId": "db610ce1-5de7-4e14-eefe-6ccd2f705e53"
      },
      "outputs": [
        {
          "name": "stdout",
          "output_type": "stream",
          "text": [
            "4\n"
          ]
        }
      ],
      "source": [
        "def i(func):\n",
        "  def wrapper(arg):\n",
        "    var = func(arg)\n",
        "    return var+1\n",
        "  return wrapper\n",
        "@i\n",
        "def c(num):\n",
        "  return num\n",
        "print(c(3))"
      ]
    },
    {
      "cell_type": "code",
      "execution_count": null,
      "id": "b96e9d38-2dc1-4106-a5d2-820e22326088",
      "metadata": {
        "id": "b96e9d38-2dc1-4106-a5d2-820e22326088",
        "outputId": "e043b3e2-f846-412c-c357-cae3ce194505"
      },
      "outputs": [
        {
          "name": "stdout",
          "output_type": "stream",
          "text": [
            "name: Alice\n",
            "age: 30\n",
            "city: Wonderland\n"
          ]
        }
      ],
      "source": [
        "def my_function(**kwargs):\n",
        "    for key, value in kwargs.items():\n",
        "        print(f\"{key}: {value}\")\n",
        "\n",
        "my_function(name=\"Alice\", age=30, city=\"Wonderland\")"
      ]
    },
    {
      "cell_type": "markdown",
      "id": "5e804bf8-c6ca-4d84-a488-5a6b2cc61b75",
      "metadata": {
        "id": "5e804bf8-c6ca-4d84-a488-5a6b2cc61b75"
      },
      "source": [
        "# <font color='red'>Lab 8 </font>\n"
      ]
    },
    {
      "cell_type": "markdown",
      "id": "ea526c37-5e20-4815-99b0-d6f623ad7d96",
      "metadata": {
        "id": "ea526c37-5e20-4815-99b0-d6f623ad7d96"
      },
      "source": [
        "write a program that takes two dictionaries as argument one containing price and another containing quantity. Calculate the total cost of medicine, using these dictionaries"
      ]
    },
    {
      "cell_type": "code",
      "execution_count": 1,
      "id": "b5bef9d3",
      "metadata": {},
      "outputs": [
        {
          "name": "stdout",
          "output_type": "stream",
          "text": [
            "<built-in method values of dict object at 0x00000226CCE8BFC0>\n"
          ]
        }
      ],
      "source": [
        "med_price = {\n",
        "    \"paracetamol\": 25,\n",
        "    \"sinex\": 20,\n",
        "    \"decold\": 30,\n",
        "    \"ibuprofen\": 35,\n",
        "}\n",
        "med_quantity ={\n",
        "    \"paracetamol\": 1,\n",
        "    \"sinex\": 1,\n",
        "    \"decold\": 30,\n",
        "    \"ibuprofen\": 35,   \n",
        "}\n",
        "print(med_price.values)\n",
        "    \n"
      ]
    },
    {
      "cell_type": "markdown",
      "id": "14b3f4e3-1001-4853-8418-dee05672012f",
      "metadata": {
        "id": "14b3f4e3-1001-4853-8418-dee05672012f"
      },
      "source": [
        "**Hint:**\n",
        "```python\n",
        "medicine_prices = {\n",
        "    \"Paracetamol\": 0.25,\n",
        "    \"Ibuprofen\": 0.30,\n",
        "    \"Amoxicillin\": 0.50,\n",
        "    \"Ciprofloxacin\": 0ti\n",
        "\n",
        "medicine_quantity = {}\n",
        "\n",
        "```\n",
        "\n",
        "Write a function to create a dictionary of quantity (i.e., medicine_quantity) which are provided from user.n\": 0.55\n",
        "}"
      ]
    },
    {
      "cell_type": "markdown",
      "id": "008d4310-c9a9-4247-ad51-463688be814c",
      "metadata": {
        "id": "008d4310-c9a9-4247-ad51-463688be814c"
      },
      "source": [
        "## ArgumentParser"
      ]
    },
    {
      "cell_type": "markdown",
      "id": "1de9035a-d097-43a5-8bb8-392be86d73da",
      "metadata": {
        "id": "1de9035a-d097-43a5-8bb8-392be86d73da"
      },
      "source": [
        "```python\n",
        "import argparse\n",
        "\n",
        "def add_numbers(a, b):\n",
        "    return a + b\n",
        "\n",
        "def main():\n",
        "    parser = argparse.ArgumentParser(description='Add two numbers.')\n",
        "    parser.add_argument('num1', type=float, help='First number')\n",
        "    parser.add_argument('num2', type=float, help='Second number')\n",
        "\n",
        "    args = parser.parse_args()\n",
        "    result = add_numbers(args.num1, args.num2)\n",
        "    \n",
        "    print(f'The result of adding {args.num1} and {args.num2} is {result}')\n",
        "\n",
        "if __name__ == '__main__':\n",
        "    main()\n",
        "\n",
        "```\n",
        "\n",
        "**In main()** function\n",
        "* The **ArgumentParser** object is created with a description of the script's purpose.\n",
        "* **add_argument** is used to define the positional arguments **num1** and **num2**, which are expected to be floating-point numbers.\n",
        "* **parse_args** parses the command-line arguments.\n",
        "* The **add_numbers** function is called with the parsed arguments, and the result is printed."
      ]
    },
    {
      "cell_type": "markdown",
      "id": "c7ebc5a2-1103-47ab-b8a1-dcb6e92ea163",
      "metadata": {
        "id": "c7ebc5a2-1103-47ab-b8a1-dcb6e92ea163"
      },
      "source": [
        "For running above code Use commant prompt (or terminal in case of Mac or Linux)\n",
        "\n",
        "```python\n",
        "$ python add_numbers.py 3 5\n",
        "```"
      ]
    },
    {
      "cell_type": "markdown",
      "id": "f12fb324-efd6-4b85-8ce5-184e4a6516a4",
      "metadata": {
        "id": "f12fb324-efd6-4b85-8ce5-184e4a6516a4"
      },
      "source": [
        "# <font color='red'>Lab 9 </font>"
      ]
    },
    {
      "cell_type": "markdown",
      "id": "0b2e718e-f741-4ae3-84dd-990f73163208",
      "metadata": {
        "id": "0b2e718e-f741-4ae3-84dd-990f73163208"
      },
      "source": [
        "Rewrite the above program to do multiplication (of two numbers)."
      ]
    },
    {
      "cell_type": "markdown",
      "id": "be1b252b-5527-4cf3-a142-e17b23649188",
      "metadata": {
        "id": "be1b252b-5527-4cf3-a142-e17b23649188"
      },
      "source": [
        "# <font color='red'> Lab 10 </font>"
      ]
    },
    {
      "cell_type": "markdown",
      "id": "7e83482b-12f6-40c8-b16d-4eadb0a2d53b",
      "metadata": {
        "id": "7e83482b-12f6-40c8-b16d-4eadb0a2d53b"
      },
      "source": [
        "write a function to convert temperature from fahrenheit to celcius.\n",
        "\n",
        "$celcius = (fahrenheit - 32) * 5/9$\n",
        "\n",
        "Print the output upto two decimal points.\n",
        "\n",
        "Take input from the user."
      ]
    },
    {
      "cell_type": "code",
      "execution_count": 1,
      "id": "ab4bfad0-31b5-4101-8269-ff47b71e3636",
      "metadata": {
        "id": "ab4bfad0-31b5-4101-8269-ff47b71e3636"
      },
      "outputs": [
        {
          "name": "stdout",
          "output_type": "stream",
          "text": [
            "37.77777777777778\n"
          ]
        }
      ],
      "source": [
        "def converter():\n",
        "    f = 100\n",
        "    c= (f- 32)*5/9\n",
        "    print(c)\n",
        "converter()\n"
      ]
    },
    {
      "cell_type": "code",
      "execution_count": null,
      "id": "70cfc7df",
      "metadata": {},
      "outputs": [],
      "source": []
    }
  ],
  "metadata": {
    "colab": {
      "provenance": []
    },
    "kernelspec": {
      "display_name": "Python 3 (ipykernel)",
      "language": "python",
      "name": "python3"
    },
    "language_info": {
      "codemirror_mode": {
        "name": "ipython",
        "version": 3
      },
      "file_extension": ".py",
      "mimetype": "text/x-python",
      "name": "python",
      "nbconvert_exporter": "python",
      "pygments_lexer": "ipython3",
      "version": "3.12.0"
    }
  },
  "nbformat": 4,
  "nbformat_minor": 5
}
